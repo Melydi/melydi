{
  "nbformat": 4,
  "nbformat_minor": 0,
  "metadata": {
    "colab": {
      "name": "onset_and_frames.ipynb",
      "version": "0.3.2",
      "provenance": [],
      "collapsed_sections": [],
      "toc_visible": true
    },
    "kernelspec": {
      "name": "python2",
      "display_name": "Python 2"
    },
    "accelerator": "GPU"
  },
  "cells": [
    {
      "cell_type": "markdown",
      "metadata": {
        "id": "gYGMczS-7rkJ",
        "colab_type": "text"
      },
      "source": [
        "Copyright 2017 Google LLC.\n",
        "\n",
        "Licensed under the Apache License, Version 2.0 (the \"License\");\n",
        "you may not use this file except in compliance with the License.\n",
        "You may obtain a copy of the License at\n",
        "\n",
        "https://www.apache.org/licenses/LICENSE-2.0\n",
        "\n",
        "Unless required by applicable law or agreed to in writing, software\n",
        "distributed under the License is distributed on an \"AS IS\" BASIS,\n",
        "WITHOUT WARRANTIES OR CONDITIONS OF ANY KIND, either express or implied.\n",
        "See the License for the specific language governing permissions and\n",
        "limitations under the License."
      ]
    },
    {
      "cell_type": "code",
      "metadata": {
        "id": "U-JYwmvNG_o7",
        "colab_type": "code",
        "outputId": "1d3523c7-6324-41a8-a841-1dd18a6570a2",
        "colab": {
          "base_uri": "https://localhost:8080/",
          "height": 34
        }
      },
      "source": [
        "print (\"Hi Rex!\")"
      ],
      "execution_count": 0,
      "outputs": [
        {
          "output_type": "stream",
          "text": [
            "Hi Rex!\n"
          ],
          "name": "stdout"
        }
      ]
    },
    {
      "cell_type": "markdown",
      "metadata": {
        "id": "IiIFvcvy7dH5",
        "colab_type": "text"
      },
      "source": [
        "# Onsets and Frames: Dual-Objective Piano Transcription\n",
        "\n",
        "### ___Curtis Hawthorne, Erich Elsen, Jialin Song, Adam Roberts, Ian Simon, Colin Raffel, Jesse Engel, Sageev Oore, Douglas Eck___ ([arXiv](https://goo.gl/magenta/onsets-frames-paper)) ([code](https://goo.gl/magenta/onsets-frames-code))\n",
        "\n",
        "Onsets and Frames is an automatic piano music transcription model. This notebook demonstrates running the model on user-supplied recordings. For more details on the architecture of the model, see our [arXiv paper](https://goo.gl/magenta/onsets-frames-paper).\n",
        "\n",
        "This version contains updates from our paper, [Enabling Factorized Piano Music Modeling and Generation with the MAESTRO Dataset\n",
        "](https://goo.gl/magenta/maestro-paper).\n",
        "___\n",
        "\n",
        "This colab notebook is self-contained and should run natively on google cloud. The code and checkpoints can be downloaded separately and run locally, which is recommended if you want to train your own model. Details on how to do this can be found in the [GitHub repo](https://goo.gl/magenta/onsets-frames-code)."
      ]
    },
    {
      "cell_type": "markdown",
      "metadata": {
        "id": "j79eR9mp_oaH",
        "colab_type": "text"
      },
      "source": [
        "# Environment Setup\n",
        "\n",
        "Includes package installation for sequence synthesis and downloading pretrained checkpoint. May take a few minutes."
      ]
    },
    {
      "cell_type": "code",
      "metadata": {
        "id": "nzGyqJja7I0O",
        "colab_type": "code",
        "cellView": "form",
        "outputId": "f9aba8a3-bfaf-49c8-b6be-f305df38e42e",
        "colab": {
          "base_uri": "https://localhost:8080/",
          "height": 935
        }
      },
      "source": [
        "#@title Setup Environment\n",
        "\n",
        "from __future__ import absolute_import\n",
        "from __future__ import division\n",
        "from __future__ import print_function\n",
        "\n",
        "import glob\n",
        "\n",
        "print('Copying checkpoint from GCS...')\n",
        "!rm -r /content/onsets-frames\n",
        "!mkdir /content/onsets-frames\n",
        "!gsutil -q -m cp -R gs://magentadata/models/onsets_frames_transcription/* /content/onsets-frames/\n",
        "!unzip -o /content/onsets-frames/maestro_checkpoint.zip -d /content/onsets-frames\n",
        "CHECKPOINT_DIR = '/content/onsets-frames/train'\n",
        "  \n",
        "print('Installing dependencies...')\n",
        "!apt-get update -qq && apt-get install -qq libfluidsynth1 fluid-soundfont-gm build-essential libasound2-dev libjack-dev ffmpeg  \n",
        "!pip install pyfluidsynth pretty_midi\n",
        "\n",
        "if glob.glob('/content/onsets-frames/magenta*.whl'):\n",
        "  !pip install -q /content/onsets-frames/magenta*.whl\n",
        "else:\n",
        "  !pip install -q magenta==1.0.2\n",
        "\n",
        "# Hack to allow python to pick up the newly-installed fluidsynth lib. \n",
        "# This is only needed for the hosted Colab environment.\n",
        "import ctypes.util\n",
        "orig_ctypes_util_find_library = ctypes.util.find_library\n",
        "def proxy_find_library(lib):\n",
        "  if lib == 'fluidsynth':\n",
        "    return 'libfluidsynth.so.1'\n",
        "  else:\n",
        "    return orig_ctypes_util_find_library(lib)\n",
        "ctypes.util.find_library = proxy_find_library"
      ],
      "execution_count": 0,
      "outputs": [
        {
          "output_type": "stream",
          "text": [
            "Copying checkpoint from GCS...\n",
            "rm: cannot remove '/content/onsets-frames': No such file or directory\n",
            "Archive:  /content/onsets-frames/maestro_checkpoint.zip\n",
            "   creating: /content/onsets-frames/train/\n",
            "  inflating: /content/onsets-frames/train/model.ckpt.data-00000-of-00001  \n",
            "  inflating: /content/onsets-frames/train/model.ckpt.meta  \n",
            "  inflating: /content/onsets-frames/train/model.ckpt.index  \n",
            "  inflating: /content/onsets-frames/train/checkpoint  \n",
            "Installing dependencies...\n",
            "Selecting previously unselected package fluid-soundfont-gm.\n",
            "(Reading database ... 113597 files and directories currently installed.)\n",
            "Preparing to unpack .../fluid-soundfont-gm_3.1-5.1_all.deb ...\n",
            "Unpacking fluid-soundfont-gm (3.1-5.1) ...\n",
            "Selecting previously unselected package libfluidsynth1:amd64.\n",
            "Preparing to unpack .../libfluidsynth1_1.1.9-1_amd64.deb ...\n",
            "Unpacking libfluidsynth1:amd64 (1.1.9-1) ...\n",
            "Setting up fluid-soundfont-gm (3.1-5.1) ...\n",
            "Processing triggers for libc-bin (2.27-3ubuntu1) ...\n",
            "Setting up libfluidsynth1:amd64 (1.1.9-1) ...\n",
            "Processing triggers for libc-bin (2.27-3ubuntu1) ...\n",
            "Collecting pyfluidsynth\n",
            "  Downloading https://files.pythonhosted.org/packages/43/eb/6b10b586d727a9706b5f2320121defdcb1cb9a2e301104549c7cca4a313e/pyFluidSynth-1.2.5-py2-none-any.whl\n",
            "Requirement already satisfied: pretty_midi in /usr/local/lib/python2.7/dist-packages (0.2.8)\n",
            "Requirement already satisfied: future in /usr/local/lib/python2.7/dist-packages (from pyfluidsynth) (0.16.0)\n",
            "Requirement already satisfied: numpy>=1.7.0 in /usr/local/lib/python2.7/dist-packages (from pretty_midi) (1.14.6)\n",
            "Requirement already satisfied: mido>=1.1.16 in /usr/local/lib/python2.7/dist-packages (from pretty_midi) (1.2.6)\n",
            "Requirement already satisfied: six in /usr/local/lib/python2.7/dist-packages (from pretty_midi) (1.11.0)\n",
            "Installing collected packages: pyfluidsynth\n",
            "Successfully installed pyfluidsynth-1.2.5\n",
            "\u001b[K    100% |████████████████████████████████| 1.4MB 13.6MB/s \n",
            "\u001b[K    100% |████████████████████████████████| 2.4MB 10.8MB/s \n",
            "\u001b[K    100% |████████████████████████████████| 2.3MB 11.4MB/s \n",
            "\u001b[K    100% |████████████████████████████████| 204kB 25.9MB/s \n",
            "\u001b[K    100% |████████████████████████████████| 1.1MB 17.6MB/s \n",
            "\u001b[K    100% |████████████████████████████████| 153kB 28.7MB/s \n",
            "\u001b[K    100% |████████████████████████████████| 51kB 18.9MB/s \n",
            "\u001b[K    100% |████████████████████████████████| 133kB 26.5MB/s \n",
            "\u001b[K    100% |████████████████████████████████| 81kB 23.0MB/s \n",
            "\u001b[K    100% |████████████████████████████████| 808kB 19.8MB/s \n",
            "\u001b[?25h  Building wheel for pygtrie (setup.py) ... \u001b[?25ldone\n",
            "\u001b[?25h  Building wheel for sonnet (setup.py) ... \u001b[?25ldone\n",
            "\u001b[?25h  Building wheel for python-rtmidi (setup.py) ... \u001b[?25ldone\n",
            "\u001b[?25h  Building wheel for hdfs (setup.py) ... \u001b[?25ldone\n",
            "\u001b[?25h  Building wheel for pyvcf (setup.py) ... \u001b[?25ldone\n",
            "\u001b[?25h  Building wheel for dill (setup.py) ... \u001b[?25ldone\n",
            "\u001b[?25h  Building wheel for avro (setup.py) ... \u001b[?25ldone\n",
            "\u001b[?25h  Building wheel for pydot (setup.py) ... \u001b[?25ldone\n",
            "\u001b[?25h  Building wheel for oauth2client (setup.py) ... \u001b[?25ldone\n",
            "\u001b[?25h  Building wheel for networkx (setup.py) ... \u001b[?25ldone\n",
            "\u001b[?25h  Building wheel for docopt (setup.py) ... \u001b[?25ldone\n",
            "\u001b[31mmultiprocess 0.70.7 has requirement dill>=0.2.9, but you'll have dill 0.2.8.2 which is incompatible.\u001b[0m\n",
            "\u001b[31mspacy 2.0.18 has requirement numpy>=1.15.0, but you'll have numpy 1.14.6 which is incompatible.\u001b[0m\n",
            "\u001b[31mthinc 6.12.1 has requirement wrapt<1.11.0,>=1.10.0, but you'll have wrapt 1.11.1 which is incompatible.\u001b[0m\n",
            "\u001b[31mapache-beam 2.9.0 has requirement pytz<=2018.4,>=2018.3, but you'll have pytz 2018.9 which is incompatible.\u001b[0m\n",
            "\u001b[?25h"
          ],
          "name": "stdout"
        }
      ]
    },
    {
      "cell_type": "markdown",
      "metadata": {
        "id": "RE-Z_a6UCAf2",
        "colab_type": "text"
      },
      "source": [
        "# Model Initializiation"
      ]
    },
    {
      "cell_type": "code",
      "metadata": {
        "id": "n8GJ5pRc6biH",
        "colab_type": "code",
        "cellView": "both",
        "outputId": "68fa18f4-3600-4009-fbe9-e880d0763d15",
        "colab": {
          "base_uri": "https://localhost:8080/",
          "height": 232
        }
      },
      "source": [
        "import tensorflow as tf\n",
        "import librosa\n",
        "import numpy as np\n",
        "\n",
        "from google.colab import files\n",
        "\n",
        "from magenta.common import tf_utils\n",
        "from magenta.music import audio_io\n",
        "import magenta.music as mm\n",
        "from magenta.models.onsets_frames_transcription import model\n",
        "from magenta.models.onsets_frames_transcription import constants\n",
        "from magenta.models.onsets_frames_transcription import data\n",
        "from magenta.music import midi_io\n",
        "from magenta.protobuf import music_pb2\n",
        "\n",
        "## Define model and load checkpoint\n",
        "## Only needs to be run once.\n",
        "\n",
        "acoustic_checkpoint = tf.train.latest_checkpoint(CHECKPOINT_DIR)\n",
        "print('acoustic_checkpoint=' + acoustic_checkpoint)\n",
        "hparams =  tf_utils.merge_hparams(\n",
        "      constants.DEFAULT_HPARAMS, model.get_default_hparams())\n",
        "hparams.batch_size = 1\n",
        "\n",
        "with tf.Graph().as_default():\n",
        "  examples = tf.placeholder(tf.string, [None])\n",
        "\n",
        "  num_dims = constants.MIDI_PITCHES\n",
        "\n",
        "  batch, iterator = data.provide_batch(\n",
        "      batch_size=1,\n",
        "      examples=examples,\n",
        "      hparams=hparams,\n",
        "      is_training=False,\n",
        "      truncated_length=0)\n",
        "\n",
        "  model.get_model(batch, hparams, is_training=False)\n",
        "\n",
        "  session = tf.Session()\n",
        "  saver = tf.train.Saver()\n",
        "  saver.restore(session, acoustic_checkpoint)\n",
        "\n",
        "  onset_probs_flat = tf.get_default_graph().get_tensor_by_name(\n",
        "      'onsets/onset_probs_flat:0')\n",
        "  frame_probs_flat = tf.get_default_graph().get_tensor_by_name(\n",
        "     'frame_probs_flat:0')\n",
        "  velocity_values_flat = tf.get_default_graph().get_tensor_by_name(\n",
        "     'velocity/velocity_values_flat:0')"
      ],
      "execution_count": 0,
      "outputs": [
        {
          "output_type": "error",
          "ename": "NameError",
          "evalue": "ignored",
          "traceback": [
            "\u001b[0;31m\u001b[0m",
            "\u001b[0;31mNameError\u001b[0mTraceback (most recent call last)",
            "\u001b[0;32m<ipython-input-1-49942f94920f>\u001b[0m in \u001b[0;36m<module>\u001b[0;34m()\u001b[0m\n\u001b[1;32m     17\u001b[0m \u001b[0;31m## Only needs to be run once.\u001b[0m\u001b[0;34m\u001b[0m\u001b[0;34m\u001b[0m\u001b[0m\n\u001b[1;32m     18\u001b[0m \u001b[0;34m\u001b[0m\u001b[0m\n\u001b[0;32m---> 19\u001b[0;31m \u001b[0macoustic_checkpoint\u001b[0m \u001b[0;34m=\u001b[0m \u001b[0mtf\u001b[0m\u001b[0;34m.\u001b[0m\u001b[0mtrain\u001b[0m\u001b[0;34m.\u001b[0m\u001b[0mlatest_checkpoint\u001b[0m\u001b[0;34m(\u001b[0m\u001b[0mCHECKPOINT_DIR\u001b[0m\u001b[0;34m)\u001b[0m\u001b[0;34m\u001b[0m\u001b[0m\n\u001b[0m\u001b[1;32m     20\u001b[0m \u001b[0;32mprint\u001b[0m\u001b[0;34m(\u001b[0m\u001b[0;34m'acoustic_checkpoint='\u001b[0m \u001b[0;34m+\u001b[0m \u001b[0macoustic_checkpoint\u001b[0m\u001b[0;34m)\u001b[0m\u001b[0;34m\u001b[0m\u001b[0m\n\u001b[1;32m     21\u001b[0m hparams =  tf_utils.merge_hparams(\n",
            "\u001b[0;31mNameError\u001b[0m: name 'CHECKPOINT_DIR' is not defined"
          ]
        }
      ]
    },
    {
      "cell_type": "markdown",
      "metadata": {
        "id": "qFiGvUBaCM9_",
        "colab_type": "text"
      },
      "source": [
        "# Upload Audio\n",
        "\n",
        "Run the following cell to upload audio files."
      ]
    },
    {
      "cell_type": "code",
      "metadata": {
        "id": "AxmkX4Tu5UJd",
        "colab_type": "code",
        "cellView": "both",
        "outputId": "8d1d7556-2e34-49e3-8b3f-76543c03499d",
        "colab": {
          "resources": {
            "http://localhost:8080/nbextensions/google.colab/files.js": {
              "data": "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",
              "ok": true,
              "headers": [
                [
                  "content-type",
                  "application/javascript"
                ]
              ],
              "status": 200,
              "status_text": ""
            }
          },
          "base_uri": "https://localhost:8080/",
          "height": 109
        }
      },
      "source": [
        "uploaded = files.upload()\n",
        "\n",
        "to_process = []\n",
        "for fn in uploaded.keys():\n",
        "  print('User uploaded file \"{name}\" with length {length} bytes'.format(\n",
        "      name=fn, length=len(uploaded[fn])))\n",
        "  open(fn, 'w').write(uploaded[fn])\n",
        "  wav_data = audio_io.samples_to_wav_data(\n",
        "      librosa.util.normalize(librosa.core.load(fn, sr=hparams.sample_rate)[0]),\n",
        "      hparams.sample_rate)\n",
        "\n",
        "  example = tf.train.Example(features=tf.train.Features(feature={\n",
        "      'id':\n",
        "          tf.train.Feature(bytes_list=tf.train.BytesList(\n",
        "              value=[fn.encode('utf-8')]\n",
        "          )),\n",
        "      'sequence':\n",
        "          tf.train.Feature(bytes_list=tf.train.BytesList(\n",
        "              value=[music_pb2.NoteSequence().SerializeToString()]\n",
        "          )),\n",
        "      'audio':\n",
        "          tf.train.Feature(bytes_list=tf.train.BytesList(\n",
        "              value=[wav_data]\n",
        "          )),\n",
        "      'velocity_range':\n",
        "          tf.train.Feature(bytes_list=tf.train.BytesList(\n",
        "              value=[music_pb2.VelocityRange().SerializeToString()]\n",
        "          )),\n",
        "  }))\n",
        "  to_process.append(example.SerializeToString())\n",
        "  print('Processing complete for', fn)"
      ],
      "execution_count": 0,
      "outputs": [
        {
          "output_type": "display_data",
          "data": {
            "text/plain": [
              "<IPython.core.display.HTML object>"
            ],
            "text/html": [
              "\n",
              "     <input type=\"file\" id=\"files-c5148b80-3da7-434e-88f1-d91e0e6328c3\" name=\"files[]\" multiple disabled />\n",
              "     <output id=\"result-c5148b80-3da7-434e-88f1-d91e0e6328c3\">\n",
              "      Upload widget is only available when the cell has been executed in the\n",
              "      current browser session. Please rerun this cell to enable.\n",
              "      </output>\n",
              "      <script src=\"/nbextensions/google.colab/files.js\"></script> "
            ]
          },
          "metadata": {
            "tags": []
          }
        },
        {
          "output_type": "stream",
          "text": [
            "Saving MAPS_MUS-mz_331_3_ENSTDkCl-snippet.wav to MAPS_MUS-mz_331_3_ENSTDkCl-snippet (1).wav\n",
            "User uploaded file \"MAPS_MUS-mz_331_3_ENSTDkCl-snippet.wav\" with length 2445488 bytes\n",
            "Processing complete for MAPS_MUS-mz_331_3_ENSTDkCl-snippet.wav\n"
          ],
          "name": "stdout"
        }
      ]
    },
    {
      "cell_type": "markdown",
      "metadata": {
        "id": "lMimufLfNMMq",
        "colab_type": "text"
      },
      "source": [
        "# Inference\n",
        "\n",
        "Run the following cell to transcribe the files you uploaded. Each time it runs it will transcribe one of the uploaded files."
      ]
    },
    {
      "cell_type": "code",
      "metadata": {
        "id": "Z5SYRvIm8gq5",
        "colab_type": "code",
        "outputId": "adc12808-aad4-4926-b3be-2fe2b099b2c9",
        "colab": {
          "base_uri": "https://localhost:8080/",
          "height": 322
        }
      },
      "source": [
        "session.run(iterator.initializer, {examples: to_process})\n",
        "\n",
        "filenames, frame_logits, onset_logits, velocity_values = session.run([\n",
        "    batch.filenames,\n",
        "    frame_probs_flat,\n",
        "    onset_probs_flat,\n",
        "    velocity_values_flat\n",
        "])\n",
        "\n",
        "print('Inference complete for', filenames[0])\n",
        "\n",
        "frame_predictions = frame_logits > .5\n",
        "\n",
        "onset_predictions = onset_logits > .5\n",
        "\n",
        "sequence_prediction = mm.sequences_lib.pianoroll_to_note_sequence(\n",
        "    frame_predictions,\n",
        "    frames_per_second=data.hparams_frames_per_second(hparams),\n",
        "    min_duration_ms=0,\n",
        "    min_midi_pitch=constants.MIN_MIDI_PITCH,\n",
        "    onset_predictions=onset_predictions,\n",
        "    velocity_values=velocity_values)\n",
        "\n",
        "# Ignore warnings caused by pyfluidsynth\n",
        "import warnings\n",
        "warnings.filterwarnings(\"ignore\", category=DeprecationWarning) \n",
        "\n",
        "mm.plot_sequence(sequence_prediction)\n",
        "mm.play_sequence(sequence_prediction, mm.midi_synth.fluidsynth)"
      ],
      "execution_count": 0,
      "outputs": [
        {
          "output_type": "stream",
          "text": [
            "Inference complete for MAPS_MUS-mz_331_3_ENSTDkCl-snippet.wav\n"
          ],
          "name": "stdout"
        },
        {
          "output_type": "display_data",
          "data": {
            "text/html": [
              "\n",
              "    <div class=\"bk-root\">\n",
              "        <a href=\"https://bokeh.pydata.org\" target=\"_blank\" class=\"bk-logo bk-logo-small bk-logo-notebook\"></a>\n",
              "        <span id=\"1270\">Loading BokehJS ...</span>\n",
              "    </div>"
            ]
          },
          "metadata": {
            "tags": []
          }
        },
        {
          "output_type": "display_data",
          "data": {
            "application/javascript": [
              "\n",
              "(function(root) {\n",
              "  function now() {\n",
              "    return new Date();\n",
              "  }\n",
              "\n",
              "  var force = true;\n",
              "\n",
              "  if (typeof (root._bokeh_onload_callbacks) === \"undefined\" || force === true) {\n",
              "    root._bokeh_onload_callbacks = [];\n",
              "    root._bokeh_is_loading = undefined;\n",
              "  }\n",
              "\n",
              "  var JS_MIME_TYPE = 'application/javascript';\n",
              "  var HTML_MIME_TYPE = 'text/html';\n",
              "  var EXEC_MIME_TYPE = 'application/vnd.bokehjs_exec.v0+json';\n",
              "  var CLASS_NAME = 'output_bokeh rendered_html';\n",
              "\n",
              "  /**\n",
              "   * Render data to the DOM node\n",
              "   */\n",
              "  function render(props, node) {\n",
              "    var script = document.createElement(\"script\");\n",
              "    node.appendChild(script);\n",
              "  }\n",
              "\n",
              "  /**\n",
              "   * Handle when an output is cleared or removed\n",
              "   */\n",
              "  function handleClearOutput(event, handle) {\n",
              "    var cell = handle.cell;\n",
              "\n",
              "    var id = cell.output_area._bokeh_element_id;\n",
              "    var server_id = cell.output_area._bokeh_server_id;\n",
              "    // Clean up Bokeh references\n",
              "    if (id != null && id in Bokeh.index) {\n",
              "      Bokeh.index[id].model.document.clear();\n",
              "      delete Bokeh.index[id];\n",
              "    }\n",
              "\n",
              "    if (server_id !== undefined) {\n",
              "      // Clean up Bokeh references\n",
              "      var cmd = \"from bokeh.io.state import curstate; print(curstate().uuid_to_server['\" + server_id + \"'].get_sessions()[0].document.roots[0]._id)\";\n",
              "      cell.notebook.kernel.execute(cmd, {\n",
              "        iopub: {\n",
              "          output: function(msg) {\n",
              "            var id = msg.content.text.trim();\n",
              "            if (id in Bokeh.index) {\n",
              "              Bokeh.index[id].model.document.clear();\n",
              "              delete Bokeh.index[id];\n",
              "            }\n",
              "          }\n",
              "        }\n",
              "      });\n",
              "      // Destroy server and session\n",
              "      var cmd = \"import bokeh.io.notebook as ion; ion.destroy_server('\" + server_id + \"')\";\n",
              "      cell.notebook.kernel.execute(cmd);\n",
              "    }\n",
              "  }\n",
              "\n",
              "  /**\n",
              "   * Handle when a new output is added\n",
              "   */\n",
              "  function handleAddOutput(event, handle) {\n",
              "    var output_area = handle.output_area;\n",
              "    var output = handle.output;\n",
              "\n",
              "    // limit handleAddOutput to display_data with EXEC_MIME_TYPE content only\n",
              "    if ((output.output_type != \"display_data\") || (!output.data.hasOwnProperty(EXEC_MIME_TYPE))) {\n",
              "      return\n",
              "    }\n",
              "\n",
              "    var toinsert = output_area.element.find(\".\" + CLASS_NAME.split(' ')[0]);\n",
              "\n",
              "    if (output.metadata[EXEC_MIME_TYPE][\"id\"] !== undefined) {\n",
              "      toinsert[toinsert.length - 1].firstChild.textContent = output.data[JS_MIME_TYPE];\n",
              "      // store reference to embed id on output_area\n",
              "      output_area._bokeh_element_id = output.metadata[EXEC_MIME_TYPE][\"id\"];\n",
              "    }\n",
              "    if (output.metadata[EXEC_MIME_TYPE][\"server_id\"] !== undefined) {\n",
              "      var bk_div = document.createElement(\"div\");\n",
              "      bk_div.innerHTML = output.data[HTML_MIME_TYPE];\n",
              "      var script_attrs = bk_div.children[0].attributes;\n",
              "      for (var i = 0; i < script_attrs.length; i++) {\n",
              "        toinsert[toinsert.length - 1].firstChild.setAttribute(script_attrs[i].name, script_attrs[i].value);\n",
              "      }\n",
              "      // store reference to server id on output_area\n",
              "      output_area._bokeh_server_id = output.metadata[EXEC_MIME_TYPE][\"server_id\"];\n",
              "    }\n",
              "  }\n",
              "\n",
              "  function register_renderer(events, OutputArea) {\n",
              "\n",
              "    function append_mime(data, metadata, element) {\n",
              "      // create a DOM node to render to\n",
              "      var toinsert = this.create_output_subarea(\n",
              "        metadata,\n",
              "        CLASS_NAME,\n",
              "        EXEC_MIME_TYPE\n",
              "      );\n",
              "      this.keyboard_manager.register_events(toinsert);\n",
              "      // Render to node\n",
              "      var props = {data: data, metadata: metadata[EXEC_MIME_TYPE]};\n",
              "      render(props, toinsert[toinsert.length - 1]);\n",
              "      element.append(toinsert);\n",
              "      return toinsert\n",
              "    }\n",
              "\n",
              "    /* Handle when an output is cleared or removed */\n",
              "    events.on('clear_output.CodeCell', handleClearOutput);\n",
              "    events.on('delete.Cell', handleClearOutput);\n",
              "\n",
              "    /* Handle when a new output is added */\n",
              "    events.on('output_added.OutputArea', handleAddOutput);\n",
              "\n",
              "    /**\n",
              "     * Register the mime type and append_mime function with output_area\n",
              "     */\n",
              "    OutputArea.prototype.register_mime_type(EXEC_MIME_TYPE, append_mime, {\n",
              "      /* Is output safe? */\n",
              "      safe: true,\n",
              "      /* Index of renderer in `output_area.display_order` */\n",
              "      index: 0\n",
              "    });\n",
              "  }\n",
              "\n",
              "  // register the mime type if in Jupyter Notebook environment and previously unregistered\n",
              "  if (root.Jupyter !== undefined) {\n",
              "    var events = require('base/js/events');\n",
              "    var OutputArea = require('notebook/js/outputarea').OutputArea;\n",
              "\n",
              "    if (OutputArea.prototype.mime_types().indexOf(EXEC_MIME_TYPE) == -1) {\n",
              "      register_renderer(events, OutputArea);\n",
              "    }\n",
              "  }\n",
              "\n",
              "  \n",
              "  if (typeof (root._bokeh_timeout) === \"undefined\" || force === true) {\n",
              "    root._bokeh_timeout = Date.now() + 5000;\n",
              "    root._bokeh_failed_load = false;\n",
              "  }\n",
              "\n",
              "  var NB_LOAD_WARNING = {'data': {'text/html':\n",
              "     \"<div style='background-color: #fdd'>\\n\"+\n",
              "     \"<p>\\n\"+\n",
              "     \"BokehJS does not appear to have successfully loaded. If loading BokehJS from CDN, this \\n\"+\n",
              "     \"may be due to a slow or bad network connection. Possible fixes:\\n\"+\n",
              "     \"</p>\\n\"+\n",
              "     \"<ul>\\n\"+\n",
              "     \"<li>re-rerun `output_notebook()` to attempt to load from CDN again, or</li>\\n\"+\n",
              "     \"<li>use INLINE resources instead, as so:</li>\\n\"+\n",
              "     \"</ul>\\n\"+\n",
              "     \"<code>\\n\"+\n",
              "     \"from bokeh.resources import INLINE\\n\"+\n",
              "     \"output_notebook(resources=INLINE)\\n\"+\n",
              "     \"</code>\\n\"+\n",
              "     \"</div>\"}};\n",
              "\n",
              "  function display_loaded() {\n",
              "    var el = document.getElementById(\"1270\");\n",
              "    if (el != null) {\n",
              "      el.textContent = \"BokehJS is loading...\";\n",
              "    }\n",
              "    if (root.Bokeh !== undefined) {\n",
              "      if (el != null) {\n",
              "        el.textContent = \"BokehJS \" + root.Bokeh.version + \" successfully loaded.\";\n",
              "      }\n",
              "    } else if (Date.now() < root._bokeh_timeout) {\n",
              "      setTimeout(display_loaded, 100)\n",
              "    }\n",
              "  }\n",
              "\n",
              "\n",
              "  function run_callbacks() {\n",
              "    try {\n",
              "      root._bokeh_onload_callbacks.forEach(function(callback) { callback() });\n",
              "    }\n",
              "    finally {\n",
              "      delete root._bokeh_onload_callbacks\n",
              "    }\n",
              "    console.info(\"Bokeh: all callbacks have finished\");\n",
              "  }\n",
              "\n",
              "  function load_libs(js_urls, callback) {\n",
              "    root._bokeh_onload_callbacks.push(callback);\n",
              "    if (root._bokeh_is_loading > 0) {\n",
              "      console.log(\"Bokeh: BokehJS is being loaded, scheduling callback at\", now());\n",
              "      return null;\n",
              "    }\n",
              "    if (js_urls == null || js_urls.length === 0) {\n",
              "      run_callbacks();\n",
              "      return null;\n",
              "    }\n",
              "    console.log(\"Bokeh: BokehJS not loaded, scheduling load and callback at\", now());\n",
              "    root._bokeh_is_loading = js_urls.length;\n",
              "    for (var i = 0; i < js_urls.length; i++) {\n",
              "      var url = js_urls[i];\n",
              "      var s = document.createElement('script');\n",
              "      s.src = url;\n",
              "      s.async = false;\n",
              "      s.onreadystatechange = s.onload = function() {\n",
              "        root._bokeh_is_loading--;\n",
              "        if (root._bokeh_is_loading === 0) {\n",
              "          console.log(\"Bokeh: all BokehJS libraries loaded\");\n",
              "          run_callbacks()\n",
              "        }\n",
              "      };\n",
              "      s.onerror = function() {\n",
              "        console.warn(\"failed to load library \" + url);\n",
              "      };\n",
              "      console.log(\"Bokeh: injecting script tag for BokehJS library: \", url);\n",
              "      document.getElementsByTagName(\"head\")[0].appendChild(s);\n",
              "    }\n",
              "  };var element = document.getElementById(\"1270\");\n",
              "  if (element == null) {\n",
              "    console.log(\"Bokeh: ERROR: autoload.js configured with elementid '1270' but no matching script tag was found. \")\n",
              "    return false;\n",
              "  }\n",
              "\n",
              "  var js_urls = [\"https://cdn.pydata.org/bokeh/release/bokeh-1.0.4.min.js\", \"https://cdn.pydata.org/bokeh/release/bokeh-widgets-1.0.4.min.js\", \"https://cdn.pydata.org/bokeh/release/bokeh-tables-1.0.4.min.js\", \"https://cdn.pydata.org/bokeh/release/bokeh-gl-1.0.4.min.js\"];\n",
              "\n",
              "  var inline_js = [\n",
              "    function(Bokeh) {\n",
              "      Bokeh.set_log_level(\"info\");\n",
              "    },\n",
              "    \n",
              "    function(Bokeh) {\n",
              "      \n",
              "    },\n",
              "    function(Bokeh) {\n",
              "      console.log(\"Bokeh: injecting CSS: https://cdn.pydata.org/bokeh/release/bokeh-1.0.4.min.css\");\n",
              "      Bokeh.embed.inject_css(\"https://cdn.pydata.org/bokeh/release/bokeh-1.0.4.min.css\");\n",
              "      console.log(\"Bokeh: injecting CSS: https://cdn.pydata.org/bokeh/release/bokeh-widgets-1.0.4.min.css\");\n",
              "      Bokeh.embed.inject_css(\"https://cdn.pydata.org/bokeh/release/bokeh-widgets-1.0.4.min.css\");\n",
              "      console.log(\"Bokeh: injecting CSS: https://cdn.pydata.org/bokeh/release/bokeh-tables-1.0.4.min.css\");\n",
              "      Bokeh.embed.inject_css(\"https://cdn.pydata.org/bokeh/release/bokeh-tables-1.0.4.min.css\");\n",
              "    }\n",
              "  ];\n",
              "\n",
              "  function run_inline_js() {\n",
              "    \n",
              "    if ((root.Bokeh !== undefined) || (force === true)) {\n",
              "      for (var i = 0; i < inline_js.length; i++) {\n",
              "        inline_js[i].call(root, root.Bokeh);\n",
              "      }if (force === true) {\n",
              "        display_loaded();\n",
              "      }} else if (Date.now() < root._bokeh_timeout) {\n",
              "      setTimeout(run_inline_js, 100);\n",
              "    } else if (!root._bokeh_failed_load) {\n",
              "      console.log(\"Bokeh: BokehJS failed to load within specified timeout.\");\n",
              "      root._bokeh_failed_load = true;\n",
              "    } else if (force !== true) {\n",
              "      var cell = $(document.getElementById(\"1270\")).parents('.cell').data().cell;\n",
              "      cell.output_area.append_execute_result(NB_LOAD_WARNING)\n",
              "    }\n",
              "\n",
              "  }\n",
              "\n",
              "  if (root._bokeh_is_loading === 0) {\n",
              "    console.log(\"Bokeh: BokehJS loaded, going straight to plotting\");\n",
              "    run_inline_js();\n",
              "  } else {\n",
              "    load_libs(js_urls, function() {\n",
              "      console.log(\"Bokeh: BokehJS plotting callback run at\", now());\n",
              "      run_inline_js();\n",
              "    });\n",
              "  }\n",
              "}(window));"
            ],
            "application/vnd.bokehjs_load.v0+json": "\n(function(root) {\n  function now() {\n    return new Date();\n  }\n\n  var force = true;\n\n  if (typeof (root._bokeh_onload_callbacks) === \"undefined\" || force === true) {\n    root._bokeh_onload_callbacks = [];\n    root._bokeh_is_loading = undefined;\n  }\n\n  \n\n  \n  if (typeof (root._bokeh_timeout) === \"undefined\" || force === true) {\n    root._bokeh_timeout = Date.now() + 5000;\n    root._bokeh_failed_load = false;\n  }\n\n  var NB_LOAD_WARNING = {'data': {'text/html':\n     \"<div style='background-color: #fdd'>\\n\"+\n     \"<p>\\n\"+\n     \"BokehJS does not appear to have successfully loaded. If loading BokehJS from CDN, this \\n\"+\n     \"may be due to a slow or bad network connection. Possible fixes:\\n\"+\n     \"</p>\\n\"+\n     \"<ul>\\n\"+\n     \"<li>re-rerun `output_notebook()` to attempt to load from CDN again, or</li>\\n\"+\n     \"<li>use INLINE resources instead, as so:</li>\\n\"+\n     \"</ul>\\n\"+\n     \"<code>\\n\"+\n     \"from bokeh.resources import INLINE\\n\"+\n     \"output_notebook(resources=INLINE)\\n\"+\n     \"</code>\\n\"+\n     \"</div>\"}};\n\n  function display_loaded() {\n    var el = document.getElementById(\"1270\");\n    if (el != null) {\n      el.textContent = \"BokehJS is loading...\";\n    }\n    if (root.Bokeh !== undefined) {\n      if (el != null) {\n        el.textContent = \"BokehJS \" + root.Bokeh.version + \" successfully loaded.\";\n      }\n    } else if (Date.now() < root._bokeh_timeout) {\n      setTimeout(display_loaded, 100)\n    }\n  }\n\n\n  function run_callbacks() {\n    try {\n      root._bokeh_onload_callbacks.forEach(function(callback) { callback() });\n    }\n    finally {\n      delete root._bokeh_onload_callbacks\n    }\n    console.info(\"Bokeh: all callbacks have finished\");\n  }\n\n  function load_libs(js_urls, callback) {\n    root._bokeh_onload_callbacks.push(callback);\n    if (root._bokeh_is_loading > 0) {\n      console.log(\"Bokeh: BokehJS is being loaded, scheduling callback at\", now());\n      return null;\n    }\n    if (js_urls == null || js_urls.length === 0) {\n      run_callbacks();\n      return null;\n    }\n    console.log(\"Bokeh: BokehJS not loaded, scheduling load and callback at\", now());\n    root._bokeh_is_loading = js_urls.length;\n    for (var i = 0; i < js_urls.length; i++) {\n      var url = js_urls[i];\n      var s = document.createElement('script');\n      s.src = url;\n      s.async = false;\n      s.onreadystatechange = s.onload = function() {\n        root._bokeh_is_loading--;\n        if (root._bokeh_is_loading === 0) {\n          console.log(\"Bokeh: all BokehJS libraries loaded\");\n          run_callbacks()\n        }\n      };\n      s.onerror = function() {\n        console.warn(\"failed to load library \" + url);\n      };\n      console.log(\"Bokeh: injecting script tag for BokehJS library: \", url);\n      document.getElementsByTagName(\"head\")[0].appendChild(s);\n    }\n  };var element = document.getElementById(\"1270\");\n  if (element == null) {\n    console.log(\"Bokeh: ERROR: autoload.js configured with elementid '1270' but no matching script tag was found. \")\n    return false;\n  }\n\n  var js_urls = [\"https://cdn.pydata.org/bokeh/release/bokeh-1.0.4.min.js\", \"https://cdn.pydata.org/bokeh/release/bokeh-widgets-1.0.4.min.js\", \"https://cdn.pydata.org/bokeh/release/bokeh-tables-1.0.4.min.js\", \"https://cdn.pydata.org/bokeh/release/bokeh-gl-1.0.4.min.js\"];\n\n  var inline_js = [\n    function(Bokeh) {\n      Bokeh.set_log_level(\"info\");\n    },\n    \n    function(Bokeh) {\n      \n    },\n    function(Bokeh) {\n      console.log(\"Bokeh: injecting CSS: https://cdn.pydata.org/bokeh/release/bokeh-1.0.4.min.css\");\n      Bokeh.embed.inject_css(\"https://cdn.pydata.org/bokeh/release/bokeh-1.0.4.min.css\");\n      console.log(\"Bokeh: injecting CSS: https://cdn.pydata.org/bokeh/release/bokeh-widgets-1.0.4.min.css\");\n      Bokeh.embed.inject_css(\"https://cdn.pydata.org/bokeh/release/bokeh-widgets-1.0.4.min.css\");\n      console.log(\"Bokeh: injecting CSS: https://cdn.pydata.org/bokeh/release/bokeh-tables-1.0.4.min.css\");\n      Bokeh.embed.inject_css(\"https://cdn.pydata.org/bokeh/release/bokeh-tables-1.0.4.min.css\");\n    }\n  ];\n\n  function run_inline_js() {\n    \n    if ((root.Bokeh !== undefined) || (force === true)) {\n      for (var i = 0; i < inline_js.length; i++) {\n        inline_js[i].call(root, root.Bokeh);\n      }if (force === true) {\n        display_loaded();\n      }} else if (Date.now() < root._bokeh_timeout) {\n      setTimeout(run_inline_js, 100);\n    } else if (!root._bokeh_failed_load) {\n      console.log(\"Bokeh: BokehJS failed to load within specified timeout.\");\n      root._bokeh_failed_load = true;\n    } else if (force !== true) {\n      var cell = $(document.getElementById(\"1270\")).parents('.cell').data().cell;\n      cell.output_area.append_execute_result(NB_LOAD_WARNING)\n    }\n\n  }\n\n  if (root._bokeh_is_loading === 0) {\n    console.log(\"Bokeh: BokehJS loaded, going straight to plotting\");\n    run_inline_js();\n  } else {\n    load_libs(js_urls, function() {\n      console.log(\"Bokeh: BokehJS plotting callback run at\", now());\n      run_inline_js();\n    });\n  }\n}(window));"
          },
          "metadata": {
            "tags": []
          }
        },
        {
          "output_type": "display_data",
          "data": {
            "text/html": [
              "\n",
              "\n",
              "\n",
              "\n",
              "\n",
              "\n",
              "  <div class=\"bk-root\" id=\"bbb37c07-88fe-417d-a979-d54dc36f4bd6\" data-root-id=\"1221\"></div>\n"
            ]
          },
          "metadata": {
            "tags": []
          }
        },
        {
          "output_type": "display_data",
          "data": {
            "application/javascript": [
              "(function(root) {\n",
              "  function embed_document(root) {\n",
              "    \n",
              "  var docs_json = {\"9f5130b2-9784-49b6-87fd-fc30fefdccaa\":{\"roots\":{\"references\":[{\"attributes\":{},\"id\":\"1226\",\"type\":\"LinearScale\"},{\"attributes\":{\"callback\":null},\"id\":\"1224\",\"type\":\"DataRange1d\"},{\"attributes\":{\"callback\":null},\"id\":\"1222\",\"type\":\"DataRange1d\"},{\"attributes\":{\"below\":[{\"id\":\"1230\",\"type\":\"LinearAxis\"}],\"left\":[{\"id\":\"1235\",\"type\":\"LinearAxis\"}],\"plot_height\":200,\"plot_width\":500,\"renderers\":[{\"id\":\"1230\",\"type\":\"LinearAxis\"},{\"id\":\"1234\",\"type\":\"Grid\"},{\"id\":\"1235\",\"type\":\"LinearAxis\"},{\"id\":\"1239\",\"type\":\"Grid\"},{\"id\":\"1247\",\"type\":\"BoxAnnotation\"},{\"id\":\"1260\",\"type\":\"GlyphRenderer\"}],\"title\":{\"id\":\"1263\",\"type\":\"Title\"},\"toolbar\":{\"id\":\"1245\",\"type\":\"Toolbar\"},\"x_range\":{\"id\":\"1222\",\"type\":\"DataRange1d\"},\"x_scale\":{\"id\":\"1226\",\"type\":\"LinearScale\"},\"y_range\":{\"id\":\"1224\",\"type\":\"DataRange1d\"},\"y_scale\":{\"id\":\"1228\",\"type\":\"LinearScale\"}},\"id\":\"1221\",\"subtype\":\"Figure\",\"type\":\"Plot\"},{\"attributes\":{\"plot\":null,\"text\":\"\"},\"id\":\"1263\",\"type\":\"Title\"},{\"attributes\":{\"source\":{\"id\":\"1256\",\"type\":\"ColumnDataSource\"}},\"id\":\"1261\",\"type\":\"CDSView\"},{\"attributes\":{\"data_source\":{\"id\":\"1256\",\"type\":\"ColumnDataSource\"},\"glyph\":{\"id\":\"1258\",\"type\":\"Quad\"},\"hover_glyph\":null,\"muted_glyph\":null,\"nonselection_glyph\":{\"id\":\"1259\",\"type\":\"Quad\"},\"selection_glyph\":null,\"view\":{\"id\":\"1261\",\"type\":\"CDSView\"}},\"id\":\"1260\",\"type\":\"GlyphRenderer\"},{\"attributes\":{},\"id\":\"1267\",\"type\":\"Selection\"},{\"attributes\":{},\"id\":\"1266\",\"type\":\"BasicTickFormatter\"},{\"attributes\":{},\"id\":\"1265\",\"type\":\"BasicTickFormatter\"},{\"attributes\":{},\"id\":\"1228\",\"type\":\"LinearScale\"},{\"attributes\":{},\"id\":\"1268\",\"type\":\"UnionRenderers\"},{\"attributes\":{\"callback\":null,\"data\":{\"bottom\":{\"__ndarray__\":\"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\",\"dtype\":\"float64\",\"shape\":[200]},\"duration\":{\"__ndarray__\":\"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\",\"dtype\":\"float64\",\"shape\":[200]},\"end_time\":{\"__ndarray__\":\"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\",\"dtype\":\"float64\",\"shape\":[200]},\"fill_alpha\":{\"__ndarray__\":\"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\",\"dtype\":\"float64\",\"shape\":[200]},\"index\":[0,1,2,3,4,5,6,7,8,9,10,11,12,13,14,15,16,17,18,19,20,21,22,23,24,25,26,27,28,29,30,31,32,33,34,35,36,37,38,39,40,41,42,43,44,45,46,47,48,49,50,51,52,53,54,55,56,57,58,59,60,61,62,63,64,65,66,67,68,69,70,71,72,73,74,75,76,77,78,79,80,81,82,83,84,85,86,87,88,89,90,91,92,93,94,95,96,97,98,99,100,101,102,103,104,105,106,107,108,109,110,111,112,113,114,115,116,117,118,119,120,121,122,123,124,125,126,127,128,129,130,131,132,133,134,135,136,137,138,139,140,141,142,143,144,145,146,147,148,149,150,151,152,153,154,155,156,157,158,159,160,161,162,163,164,165,166,167,168,169,170,171,172,173,174,175,176,177,178,179,180,181,182,183,184,185,186,187,188,189,190,191,192,193,194,195,196,197,198,199],\"instrument\":[0,0,0,0,0,0,0,0,0,0,0,0,0,0,0,0,0,0,0,0,0,0,0,0,0,0,0,0,0,0,0,0,0,0,0,0,0,0,0,0,0,0,0,0,0,0,0,0,0,0,0,0,0,0,0,0,0,0,0,0,0,0,0,0,0,0,0,0,0,0,0,0,0,0,0,0,0,0,0,0,0,0,0,0,0,0,0,0,0,0,0,0,0,0,0,0,0,0,0,0,0,0,0,0,0,0,0,0,0,0,0,0,0,0,0,0,0,0,0,0,0,0,0,0,0,0,0,0,0,0,0,0,0,0,0,0,0,0,0,0,0,0,0,0,0,0,0,0,0,0,0,0,0,0,0,0,0,0,0,0,0,0,0,0,0,0,0,0,0,0,0,0,0,0,0,0,0,0,0,0,0,0,0,0,0,0,0,0,0,0,0,0,0,0,0,0,0,0,0,0],\"pitch\":[71,69,68,69,57,72,60,64,64,55,60,72,64,71,74,60,72,76,57,60,64,60,64,77,76,60,64,75,76,81,83,57,60,64,80,81,81,64,80,83,57,60,81,57,84,60,64,60,64,81,60,64,84,79,52,83,59,64,78,81,59,64,79,59,64,78,81,64,79,52,83,64,59,78,81,76,59,64,79,64,78,81,59,64,79,52,83,64,59,78,81,76,79,47,59,75,78,52,76,43,71,69,68,69,72,57,60,64,55,64,60,72,64,71,74,60,72,57,76,60,64,60,64,77,76,64,60,75,76,81,60,64,80,83,57,81,83,81,57,60,64,80,81,57,84,60,64,60,64,81,60,64,84,79,52,83,64,78,59,81,59,64,79,59,64,78,81,79,64,52,83,64,59,78,81,64,76,59,79,64,59,78,81,64,79,52,83,64,78,81,59,79,47,76,75,78,59,76,76,52],\"program\":[0,0,0,0,0,0,0,0,0,0,0,0,0,0,0,0,0,0,0,0,0,0,0,0,0,0,0,0,0,0,0,0,0,0,0,0,0,0,0,0,0,0,0,0,0,0,0,0,0,0,0,0,0,0,0,0,0,0,0,0,0,0,0,0,0,0,0,0,0,0,0,0,0,0,0,0,0,0,0,0,0,0,0,0,0,0,0,0,0,0,0,0,0,0,0,0,0,0,0,0,0,0,0,0,0,0,0,0,0,0,0,0,0,0,0,0,0,0,0,0,0,0,0,0,0,0,0,0,0,0,0,0,0,0,0,0,0,0,0,0,0,0,0,0,0,0,0,0,0,0,0,0,0,0,0,0,0,0,0,0,0,0,0,0,0,0,0,0,0,0,0,0,0,0,0,0,0,0,0,0,0,0,0,0,0,0,0,0,0,0,0,0,0,0,0,0,0,0,0,0],\"start_time\":{\"__ndarray__\":\"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\",\"dtype\":\"float64\",\"shape\":[200]},\"top\":{\"__ndarray__\":\"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\",\"dtype\":\"float64\",\"shape\":[200]},\"velocity\":[66,67,71,66,59,75,53,68,65,58,55,74,66,67,69,59,67,76,63,55,63,59,64,73,70,59,63,72,67,73,74,63,52,61,71,69,71,61,71,74,59,53,70,61,75,54,66,57,64,73,56,65,72,69,65,75,60,62,69,72,59,68,75,59,62,69,72,66,70,65,75,64,60,70,72,68,58,68,75,60,68,71,57,68,71,65,75,63,61,70,72,67,74,55,60,72,75,63,73,45,68,68,70,66,76,60,51,65,56,64,57,73,66,65,69,63,70,64,75,54,66,57,63,73,70,64,55,73,67,73,48,62,71,74,61,70,74,71,61,55,66,71,70,60,75,56,66,60,66,73,57,64,73,70,65,75,62,69,59,72,59,69,75,61,63,69,71,72,68,65,75,64,61,70,72,67,69,54,75,66,62,70,73,68,73,65,74,64,70,74,58,74,56,68,72,75,61,74,47,65]},\"selected\":{\"id\":\"1267\",\"type\":\"Selection\"},\"selection_policy\":{\"id\":\"1268\",\"type\":\"UnionRenderers\"}},\"id\":\"1256\",\"type\":\"ColumnDataSource\"},{\"attributes\":{\"interval\":12},\"id\":\"1255\",\"type\":\"SingleIntervalTicker\"},{\"attributes\":{\"interval\":12},\"id\":\"1253\",\"type\":\"SingleIntervalTicker\"},{\"attributes\":{\"bottom\":{\"field\":\"bottom\"},\"fill_alpha\":{\"field\":\"fill_alpha\"},\"fill_color\":{\"value\":\"#d53e4f\"},\"left\":{\"field\":\"start_time\"},\"right\":{\"field\":\"end_time\"},\"top\":{\"field\":\"top\"}},\"id\":\"1258\",\"type\":\"Quad\"},{\"attributes\":{\"bottom\":{\"field\":\"bottom\"},\"fill_alpha\":{\"value\":0.1},\"fill_color\":{\"value\":\"#1f77b4\"},\"left\":{\"field\":\"start_time\"},\"line_alpha\":{\"value\":0.1},\"line_color\":{\"value\":\"#1f77b4\"},\"right\":{\"field\":\"end_time\"},\"top\":{\"field\":\"top\"}},\"id\":\"1259\",\"type\":\"Quad\"},{\"attributes\":{\"plot\":{\"id\":\"1221\",\"subtype\":\"Figure\",\"type\":\"Plot\"},\"ticker\":{\"id\":\"1231\",\"type\":\"BasicTicker\"}},\"id\":\"1234\",\"type\":\"Grid\"},{\"attributes\":{\"axis_label\":\"pitch (MIDI)\",\"formatter\":{\"id\":\"1266\",\"type\":\"BasicTickFormatter\"},\"plot\":{\"id\":\"1221\",\"subtype\":\"Figure\",\"type\":\"Plot\"},\"ticker\":{\"id\":\"1253\",\"type\":\"SingleIntervalTicker\"}},\"id\":\"1235\",\"type\":\"LinearAxis\"},{\"attributes\":{\"axis_label\":\"time (sec)\",\"formatter\":{\"id\":\"1265\",\"type\":\"BasicTickFormatter\"},\"plot\":{\"id\":\"1221\",\"subtype\":\"Figure\",\"type\":\"Plot\"},\"ticker\":{\"id\":\"1231\",\"type\":\"BasicTicker\"}},\"id\":\"1230\",\"type\":\"LinearAxis\"},{\"attributes\":{},\"id\":\"1231\",\"type\":\"BasicTicker\"},{\"attributes\":{\"dimension\":1,\"plot\":{\"id\":\"1221\",\"subtype\":\"Figure\",\"type\":\"Plot\"},\"ticker\":{\"id\":\"1255\",\"type\":\"SingleIntervalTicker\"}},\"id\":\"1239\",\"type\":\"Grid\"},{\"attributes\":{},\"id\":\"1241\",\"type\":\"PanTool\"},{\"attributes\":{\"callback\":null,\"tooltips\":[[\"velo\",\"@velocity\"],[\"program\",\"@program\"],[\"end_time\",\"@end_time\"],[\"pitch\",\"@pitch\"],[\"duration\",\"@duration\"],[\"velocity\",\"@velocity\"],[\"start_time\",\"@start_time\"],[\"fill_alpha\",\"@fill_alpha\"]]},\"id\":\"1240\",\"type\":\"HoverTool\"},{\"attributes\":{},\"id\":\"1243\",\"type\":\"ResetTool\"},{\"attributes\":{\"overlay\":{\"id\":\"1247\",\"type\":\"BoxAnnotation\"}},\"id\":\"1242\",\"type\":\"BoxZoomTool\"},{\"attributes\":{\"active_drag\":\"auto\",\"active_inspect\":\"auto\",\"active_multi\":null,\"active_scroll\":\"auto\",\"active_tap\":\"auto\",\"tools\":[{\"id\":\"1240\",\"type\":\"HoverTool\"},{\"id\":\"1241\",\"type\":\"PanTool\"},{\"id\":\"1242\",\"type\":\"BoxZoomTool\"},{\"id\":\"1243\",\"type\":\"ResetTool\"},{\"id\":\"1244\",\"type\":\"SaveTool\"}]},\"id\":\"1245\",\"type\":\"Toolbar\"},{\"attributes\":{},\"id\":\"1244\",\"type\":\"SaveTool\"},{\"attributes\":{\"bottom_units\":\"screen\",\"fill_alpha\":{\"value\":0.5},\"fill_color\":{\"value\":\"lightgrey\"},\"left_units\":\"screen\",\"level\":\"overlay\",\"line_alpha\":{\"value\":1.0},\"line_color\":{\"value\":\"black\"},\"line_dash\":[4,4],\"line_width\":{\"value\":2},\"plot\":null,\"render_mode\":\"css\",\"right_units\":\"screen\",\"top_units\":\"screen\"},\"id\":\"1247\",\"type\":\"BoxAnnotation\"}],\"root_ids\":[\"1221\"]},\"title\":\"Bokeh Application\",\"version\":\"1.0.4\"}};\n",
              "  var render_items = [{\"docid\":\"9f5130b2-9784-49b6-87fd-fc30fefdccaa\",\"roots\":{\"1221\":\"bbb37c07-88fe-417d-a979-d54dc36f4bd6\"}}];\n",
              "  root.Bokeh.embed.embed_items_notebook(docs_json, render_items);\n",
              "\n",
              "  }\n",
              "  if (root.Bokeh !== undefined) {\n",
              "    embed_document(root);\n",
              "  } else {\n",
              "    var attempts = 0;\n",
              "    var timer = setInterval(function(root) {\n",
              "      if (root.Bokeh !== undefined) {\n",
              "        embed_document(root);\n",
              "        clearInterval(timer);\n",
              "      }\n",
              "      attempts++;\n",
              "      if (attempts > 100) {\n",
              "        console.log(\"Bokeh: ERROR: Unable to run BokehJS code because BokehJS library is missing\");\n",
              "        clearInterval(timer);\n",
              "      }\n",
              "    }, 10, root)\n",
              "  }\n",
              "})(window);"
            ],
            "application/vnd.bokehjs_exec.v0+json": ""
          },
          "metadata": {
            "tags": [],
            "application/vnd.bokehjs_exec.v0+json": {
              "id": "1221"
            }
          }
        },
        {
          "output_type": "display_data",
          "data": {
            "text/plain": [
              "<IPython.core.display.HTML object>"
            ],
            "text/html": [
              "<div id=\"id_3\"> </div>"
            ]
          },
          "metadata": {
            "tags": []
          }
        }
      ]
    },
    {
      "cell_type": "markdown",
      "metadata": {
        "id": "FFDVTcMwj5VX",
        "colab_type": "text"
      },
      "source": [
        "Optionally run the following cell to download a MIDI version of the inferred transcription."
      ]
    },
    {
      "cell_type": "code",
      "metadata": {
        "id": "3JnQW-Gaj-5d",
        "colab_type": "code",
        "colab": {}
      },
      "source": [
        "midi_filename = (filenames[0] + '.mid').replace(' ', '_')\n",
        "midi_io.sequence_proto_to_midi_file(sequence_prediction, midi_filename)\n",
        "\n",
        "files.download(midi_filename)"
      ],
      "execution_count": 0,
      "outputs": []
    }
  ]
}